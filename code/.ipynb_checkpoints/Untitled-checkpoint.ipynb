{
 "cells": [
  {
   "cell_type": "code",
   "execution_count": 1,
   "metadata": {},
   "outputs": [],
   "source": [
    "from scipy.io import loadmat\n",
    "import numpy as np\n",
    "from scipy import signal\n",
    "import matplotlib.pyplot as plt\n",
    "import seaborn as sns\n",
    "import pandas as pd\n",
    "from matplotlib import animation, rc\n",
    "from IPython.display import HTML, Image"
   ]
  },
  {
   "cell_type": "code",
   "execution_count": 2,
   "metadata": {},
   "outputs": [],
   "source": [
    "# Import signal\n",
    "data = loadmat('../data/ID02_50h.mat')\n",
    "info = loadmat('../data/ID02_info.mat')\n",
    "data = data['EEG']\n",
    "fs = float(info['fs'])"
   ]
  },
  {
   "cell_type": "code",
   "execution_count": 3,
   "metadata": {},
   "outputs": [],
   "source": [
    "# Parameters\n",
    "nperseg = 1*60*fs\n",
    "noverlap = 0"
   ]
  },
  {
   "cell_type": "code",
   "execution_count": 14,
   "metadata": {},
   "outputs": [],
   "source": [
    "# equivalent to rcParams['animation.html'] = 'html5'\n",
    "rc('animation', html='html5')\n",
    "\n",
    "def init():\n",
    "    level.set_array([])\n",
    "    return level\n",
    "\n",
    "\n",
    "def update(frame):\n",
    "    level.set_array(corrmats[:, :, frame].ravel())\n",
    "    ax.set_title(str(frame) + ' min')\n",
    "    return level"
   ]
  },
  {
   "cell_type": "code",
   "execution_count": 10,
   "metadata": {},
   "outputs": [],
   "source": [
    "corrmats = np.zeros((data.shape[0], data.shape[0], int((data.shape[1]-nperseg)/(nperseg-noverlap))))\n",
    "for i in range(corrmats.shape[2]):\n",
    "    corrmats[:,:,i] = np.corrcoef(data[:, int(i*(nperseg-noverlap)):int(i*(nperseg-noverlap)+nperseg)])"
   ]
  },
  {
   "cell_type": "code",
   "execution_count": 15,
   "metadata": {},
   "outputs": [
    {
     "data": {
      "image/png": "[encoded data removed]",
      "text/plain": [
       "<Figure size 576x576 with 1 Axes>"
      ]
     },
     "metadata": {
      "needs_background": "light"
     },
     "output_type": "display_data"
    }
   ],
   "source": [
    "#y, x = np.meshgrid(np.arange(0, corrmats.shape[0], 1), np.arange(0, corrmats.shape[0], 1))\n",
    "corr = np.ones((corrmats.shape[0], corrmats.shape[0]))\n",
    "\n",
    "fig, ax = plt.subplots(figsize=(8, 8))\n",
    "level = ax.pcolormesh(corr, cmap='bwr', vmin=-1, vmax=1)\n",
    "plt.gca().invert_yaxis()\n",
    "\n",
    "ani = animation.FuncAnimation(fig, update, frames=corrmats.shape[2], interval=20)"
   ]
  },
  {
   "cell_type": "code",
   "execution_count": 16,
   "metadata": {},
   "outputs": [],
   "source": [
    "ani.save('./corr_50h.gif', writer='imagemagick', fps=3)"
   ]
  },
  {
   "cell_type": "code",
   "execution_count": 43,
   "metadata": {},
   "outputs": [
    {
     "data": {
      "text/plain": [
       "4356"
      ]
     },
     "execution_count": 43,
     "metadata": {},
     "output_type": "execute_result"
    }
   ],
   "source": [
    "66*66"
   ]
  },
  {
   "cell_type": "code",
   "execution_count": 47,
   "metadata": {},
   "outputs": [
    {
     "data": {
      "text/plain": [
       "(66, 66, 59)"
      ]
     },
     "execution_count": 47,
     "metadata": {},
     "output_type": "execute_result"
    }
   ],
   "source": [
    "corrmats.shape"
   ]
  },
  {
   "cell_type": "code",
   "execution_count": null,
   "metadata": {},
   "outputs": [],
   "source": []
  }
 ],
 "metadata": {
  "kernelspec": {
   "display_name": "Python 3",
   "language": "python",
   "name": "python3"
  },
  "language_info": {
   "codemirror_mode": {
    "name": "ipython",
    "version": 3
   },
   "file_extension": ".py",
   "mimetype": "text/x-python",
   "name": "python",
   "nbconvert_exporter": "python",
   "pygments_lexer": "ipython3",
   "version": "3.7.1"
  }
 },
 "nbformat": 4,
 "nbformat_minor": 2
}
