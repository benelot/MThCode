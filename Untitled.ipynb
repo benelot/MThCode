{
 "cells": [
  {
   "cell_type": "code",
   "execution_count": 12,
   "metadata": {},
   "outputs": [],
   "source": [
    "import seaborn as sns\n",
    "import pandas as pd\n",
    "import matplotlib.pyplot as plt\n",
    "import numpy as np\n",
    "from scipy.io import loadmat"
   ]
  },
  {
   "cell_type": "code",
   "execution_count": 13,
   "metadata": {},
   "outputs": [
    {
     "ename": "NameError",
     "evalue": "name 'MinMaxScaler' is not defined",
     "output_type": "error",
     "traceback": [
      "\u001b[1;31m---------------------------------------------------------------------------\u001b[0m",
      "\u001b[1;31mNameError\u001b[0m                                 Traceback (most recent call last)",
      "\u001b[1;32m<ipython-input-13-3cfbb62d405e>\u001b[0m in \u001b[0;36m<module>\u001b[1;34m\u001b[0m\n\u001b[0;32m     10\u001b[0m \u001b[1;33m\u001b[0m\u001b[0m\n\u001b[0;32m     11\u001b[0m \u001b[1;31m# normalization useful?\u001b[0m\u001b[1;33m\u001b[0m\u001b[1;33m\u001b[0m\u001b[1;33m\u001b[0m\u001b[0m\n\u001b[1;32m---> 12\u001b[1;33m \u001b[0msc\u001b[0m \u001b[1;33m=\u001b[0m \u001b[0mMinMaxScaler\u001b[0m\u001b[1;33m(\u001b[0m\u001b[0mfeature_range\u001b[0m\u001b[1;33m=\u001b[0m\u001b[1;33m(\u001b[0m\u001b[1;33m-\u001b[0m\u001b[1;36m1\u001b[0m\u001b[1;33m,\u001b[0m \u001b[1;36m1\u001b[0m\u001b[1;33m)\u001b[0m\u001b[1;33m)\u001b[0m\u001b[1;33m\u001b[0m\u001b[1;33m\u001b[0m\u001b[0m\n\u001b[0m\u001b[0;32m     13\u001b[0m \u001b[0msc\u001b[0m\u001b[1;33m.\u001b[0m\u001b[0mfit\u001b[0m\u001b[1;33m(\u001b[0m\u001b[0mdata\u001b[0m\u001b[1;33m)\u001b[0m\u001b[1;33m\u001b[0m\u001b[1;33m\u001b[0m\u001b[0m\n\u001b[0;32m     14\u001b[0m \u001b[0mdata_norm\u001b[0m \u001b[1;33m=\u001b[0m \u001b[0msc\u001b[0m\u001b[1;33m.\u001b[0m\u001b[0mtransform\u001b[0m\u001b[1;33m(\u001b[0m\u001b[0mdata\u001b[0m\u001b[1;33m)\u001b[0m\u001b[1;33m\u001b[0m\u001b[1;33m\u001b[0m\u001b[0m\n",
      "\u001b[1;31mNameError\u001b[0m: name 'MinMaxScaler' is not defined"
     ]
    }
   ],
   "source": [
    "# parameters\n",
    "ch_start = 0  # first channel of used channels\n",
    "ch_end = 79  # last channel of used channels\n",
    "nr_samples = 2000  # the first nr_samples are used\n",
    "window_size = 50\n",
    "ch_out = [20, 40, 60]  # index of output channels (others are considered input)\n",
    "\n",
    "data_mat = loadmat('./data/ID01_1h.mat')\n",
    "data = data_mat['EEG'][ch_start:ch_end, :nr_samples].transpose()\n",
    "\n",
    "# normalization useful?\n",
    "sc = MinMaxScaler(feature_range=(-1, 1))\n",
    "sc.fit(data)\n",
    "data_norm = sc.transform(data)\n",
    "\n",
    "# to tensor\n",
    "data_norm = torch.FloatTensor(data_norm)\n",
    "\n",
    "# split data\n",
    "train_portion = 0.8\n",
    "train_set = data_norm[:int(train_portion * nr_samples), :]\n",
    "test_set = data_norm[int(train_portion * nr_samples):, :]\n",
    "\n",
    "# prepare data for learning\n",
    "ch_in = list(range(ch_start, ch_end))\n",
    "for idx, val in enumerate(ch_out):\n",
    "    ch_in.remove(val)\n",
    "X_train, Y_train, X_test, Y_test = [], [], [], []\n",
    "for i in range(train_set.shape[0] - window_size):\n",
    "    X_train.append(train_set[i:i+window_size, ch_in])\n",
    "    Y_train.append(train_set[i+window_size-1, ch_out])\n",
    "for i in range(test_set.shape[0] - window_size):\n",
    "    X_test.append(test_set[i:i+window_size, ch_in])\n",
    "    Y_test.append(test_set[i+window_size-1, ch_out])"
   ]
  },
  {
   "cell_type": "code",
   "execution_count": null,
   "metadata": {},
   "outputs": [],
   "source": []
  },
  {
   "cell_type": "code",
   "execution_count": null,
   "metadata": {},
   "outputs": [],
   "source": []
  },
  {
   "cell_type": "code",
   "execution_count": null,
   "metadata": {},
   "outputs": [],
   "source": []
  },
  {
   "cell_type": "code",
   "execution_count": null,
   "metadata": {},
   "outputs": [],
   "source": []
  },
  {
   "cell_type": "code",
   "execution_count": null,
   "metadata": {},
   "outputs": [],
   "source": []
  }
 ],
 "metadata": {
  "kernelspec": {
   "display_name": "Python 3",
   "language": "python",
   "name": "python3"
  },
  "language_info": {
   "codemirror_mode": {
    "name": "ipython",
    "version": 3
   },
   "file_extension": ".py",
   "mimetype": "text/x-python",
   "name": "python",
   "nbconvert_exporter": "python",
   "pygments_lexer": "ipython3",
   "version": "3.7.1"
  }
 },
 "nbformat": 4,
 "nbformat_minor": 2
}
