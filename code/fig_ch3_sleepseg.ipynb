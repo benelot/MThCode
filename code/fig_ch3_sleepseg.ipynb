{
 "cells": [
  {
   "cell_type": "code",
   "execution_count": 1,
   "metadata": {},
   "outputs": [
    {
     "name": "stderr",
     "output_type": "stream",
     "text": [
      "C:\\Users\\janse\\Anaconda3\\shy\\lib\\site-packages\\ipykernel\\parentpoller.py:116: UserWarning: Parent poll failed.  If the frontend dies,\n",
      "                the kernel may be left running.  Please let us know\n",
      "                about your system (bitness, Python, etc.) at\n",
      "                ipython-dev@scipy.org\n",
      "  ipython-dev@scipy.org\"\"\")\n"
     ]
    }
   ],
   "source": [
    "from scipy.io import loadmat\n",
    "import numpy as np\n",
    "import numpy.ma as ma\n",
    "import utilities_figures as ufig\n",
    "from scipy import signal\n",
    "import matplotlib.pyplot as plt\n",
    "import seaborn as sns\n",
    "import pandas as pd"
   ]
  },
  {
   "cell_type": "code",
   "execution_count": 2,
   "metadata": {},
   "outputs": [],
   "source": [
    "patient_id = 'ID07'\n",
    "h_string = '31to39h'\n",
    "h_offset = 31  # hours\n",
    "h_range = 9\n",
    "vmax = 40\n",
    "ax1_ylim = (0, 150)\n",
    "ax2_ylim = (0.032, 0.043)\n",
    "ax3_ylim = None\n",
    "ax4_ylim = (0.001, 0.003)"
   ]
  },
  {
   "cell_type": "code",
   "execution_count": 2,
   "metadata": {},
   "outputs": [],
   "source": [
    "# ID07 RNN\n",
    "patient_id = 'ID07'\n",
    "h_string = '31to39h'\n",
    "h_offset = 31  # hours\n",
    "h_range = 9\n",
    "vmax = 40\n",
    "ax1_ylim = (0, 150)\n",
    "ax2_ylim = None\n",
    "ax3_ylim = None\n",
    "ax4_ylim = None"
   ]
  },
  {
   "cell_type": "code",
   "execution_count": 2,
   "metadata": {},
   "outputs": [],
   "source": [
    "patient_id = 'ID08'\n",
    "h_string = '57to65h'\n",
    "h_offset = 57  # hours\n",
    "h_range = 9\n",
    "vmax = 800\n",
    "ax1_ylim = None\n",
    "ax2_ylim = None\n",
    "ax3_ylim = None\n",
    "ax4_ylim = (0.001, 0.0025)"
   ]
  },
  {
   "cell_type": "code",
   "execution_count": 2,
   "metadata": {},
   "outputs": [],
   "source": [
    "patient_id = 'ID11'\n",
    "h_string = '59to65h'\n",
    "h_offset = 59  # hours\n",
    "h_range = 7\n",
    "vmax = 300\n",
    "ax1_ylim = None\n",
    "ax2_ylim = None\n",
    "ax3_ylim = (0.3, 0.43)\n",
    "ax4_ylim = (0.0002, 0.0013)"
   ]
  },
  {
   "cell_type": "code",
   "execution_count": 2,
   "metadata": {},
   "outputs": [],
   "source": [
    "patient_id = 'ID11'\n",
    "h_string = '129to137h'\n",
    "h_offset = 129  # hours\n",
    "h_range = 9\n",
    "vmax = 300\n",
    "ax1_ylim = (0, 2000)\n",
    "ax2_ylim = None\n",
    "ax3_ylim = (0.29, 0.46)\n",
    "ax4_ylim = (0, 0.002)"
   ]
  },
  {
   "cell_type": "code",
   "execution_count": 3,
   "metadata": {},
   "outputs": [
    {
     "name": "stdout",
     "output_type": "stream",
     "text": [
      "(16588800,)\n"
     ]
    }
   ],
   "source": [
    "data_mat = loadmat('../data/' + patient_id + '_' + h_string + '.mat')\n",
    "info = loadmat('../data/' + patient_id + '_info.mat')\n",
    "fs = float(info['fs'])\n",
    "data_np = data_mat['EEG']\n",
    "data_list = [data_np[i, :] for i in range(data_np.shape[0])]\n",
    "\n",
    "print(data_list[1].shape)\n",
    "\n",
    "# Parameters\n",
    "channel_idx = 0\n",
    "sw_band = (0.5, 4)\n",
    "nperseg = int(6*60*fs) #int(20*fs)\n",
    "noverlap = 0 #int(10*fs)\n",
    "#t_stamps_0 = [(32, 10), (35, 10), (38, 15)]  # ([h], [min])\n",
    "#t_stamps_0 = [(58, 0), (60, 2), (64, 40)]  # ([h], [min])\n",
    "#t_stamps_0 = [(60, 5), (62, 10), (64, 55)]  # ([h], [min])\n",
    "t_stamps_0 = [(129, 45), (133, 36), (136, 30)]  # ([h], [min])\n",
    "duration = 5  # [min]\n",
    "\n",
    "t_stamps = []\n",
    "for i, val in enumerate(t_stamps_0):\n",
    "    t_stamps.append(val[0] + val[1]/60)"
   ]
  },
  {
   "cell_type": "code",
   "execution_count": 4,
   "metadata": {},
   "outputs": [],
   "source": [
    "data = data_list[channel_idx]\n",
    "\n",
    "# Get spectral density\n",
    "f, t, Sxx = signal.spectrogram(data, fs, nperseg=nperseg, noverlap=noverlap, scaling='density')\n",
    "\n",
    "# Extract slow wave band with tukey window\n",
    "Sxx_band = Sxx[int(sw_band[0] * Sxx.shape[0] / f[-1]):int(sw_band[1] * Sxx.shape[0] / f[-1]), :]\n",
    "tukey_window_band = np.tile(signal.tukey(Sxx_band.shape[0]), (Sxx_band.shape[1], 1)).T\n",
    "Sxx_band_tukey = np.multiply(Sxx_band,  tukey_window_band)\n",
    "\n",
    "# Compute average band power\n",
    "swa = np.mean(Sxx_band_tukey, axis=0)\n",
    "\n",
    "#plt.figure(figsize=(10,5))\n",
    "#plt.pcolormesh(t, f, Sxx, vmax=vmax, cmap='viridis')\n",
    "#plt.ylim(0, 30)"
   ]
  },
  {
   "cell_type": "code",
   "execution_count": 5,
   "metadata": {},
   "outputs": [],
   "source": [
    "corrmean = np.load('../data/corrmean_' + patient_id + '_' + h_string + '_all.npy')\n",
    "#corrmean = np.mean(corrmean, axis=1)\n",
    "\n",
    "#pre = 'allpos'\n",
    "pre = 'SLP_allpos'\n",
    "\n",
    "\n",
    "ids = []\n",
    "for h_ in range(h_range):\n",
    "    for m in range(10):  # 30\n",
    "        h = h_ + h_offset\n",
    "        m = 6 * m  # 2\n",
    "\n",
    "        zero = ''\n",
    "        if m < 10:\n",
    "            zero = '0'\n",
    "\n",
    "        t_string = str(h) + 'h' + zero + str(m) + 'm'\n",
    "        if patient_id == 'ID11':\n",
    "            if h_offset == 59:\n",
    "                additional = 'a'\n",
    "            else:\n",
    "                additional = 'b'\n",
    "        else:\n",
    "            additional = ''\n",
    "        ids.append(pre + '_' + patient_id + additional + '_' + t_string)\n",
    "\n",
    "mean_abs, mse, mae, corr = ufig.mean_weights(ids, output=True)\n",
    "t_results = np.linspace(h_offset, h_offset + h_range, len(mean_abs))\n"
   ]
  },
  {
   "cell_type": "code",
   "execution_count": 8,
   "metadata": {},
   "outputs": [
    {
     "data": {
      "image/png": "[encoded data removed]",
      "text/plain": [
       "<Figure size 216x360 with 4 Axes>"
      ]
     },
     "metadata": {},
     "output_type": "display_data"
    }
   ],
   "source": [
    "n_subplots = 4\n",
    "    \n",
    "fig = plt.figure(figsize=(3, 5))\n",
    "sns.set_style('ticks')\n",
    "t_hours = t/60/60 + h_offset\n",
    "ax = [[], [], [], []]\n",
    "\n",
    "ax[0] = fig.add_subplot(n_subplots, 1, 1)\n",
    "plt.plot(t_hours, swa, lw=.8, color='black', label='unfiltered')  # 'darkgrey'\n",
    "#smooth = signal.savgol_filter(swa, window_length=101, polyorder=3)\n",
    "#plt.plot(t_hours, smooth, c='black', lw=1, label='filtered')\n",
    "#plt.legend(loc='upper right', frameon=False)\n",
    "ax[0].set_xlim(t_hours[0], t_hours[-1])\n",
    "if ax1_ylim is not None:\n",
    "    ax[0].set_ylim(ax1_ylim)\n",
    "ylim = ax[0].get_ylim()\n",
    "ax[0].set_ylabel('SW band power\\ndensity [$\\mu$V$^2$/Hz]')\n",
    "ax[0].set_ylim(ylim)\n",
    "#ax[0].set_xlabel('Time [h]')\n",
    "\n",
    "ax[1] = fig.add_subplot(n_subplots, 1, 2)\n",
    "plt.plot(t_results, mean_abs, c='black', lw=1)\n",
    "ax[1].set_xlim(t_results[0], t_results[-1])\n",
    "#if ax2_ylim is not None:\n",
    "    #ax[1].set_ylim(ax2_ylim)\n",
    "ax[1].set_ylabel('Mean abs.\\nweights [-]')\n",
    "#ax[1].set_xlabel('Time [h]')\n",
    "\n",
    "ax[2] = fig.add_subplot(n_subplots, 1, 3)\n",
    "plt.plot(t_results, mae, c='black', lw=1)\n",
    "ax[2].set_xlim(t_results[0], t_results[-1])\n",
    "#if ax4_ylim is not None:\n",
    "#    ax[2].set_ylim(ax4_ylim)\n",
    "ax[2].set_ylabel('MAE loss [-]')\n",
    "\n",
    "ax[3] = fig.add_subplot(n_subplots, 1, 4)\n",
    "t_corr = np.linspace(t_hours[0], t_hours[-1], len(corrmean))\n",
    "upper_ylim = np.max(corrmean)+np.max(corrmean)/10\n",
    "lower_ylim = np.min(corrmean)-np.min(corrmean)/10\n",
    "corr_arr = signal.resample(corrmean, len(mean_abs))\n",
    "plt.plot(t_results, corr_arr, c='black', lw=1)\n",
    "ax[3].set_xlim(t_hours[0], t_hours[-1])\n",
    "if ax3_ylim is not None:\n",
    "    ax[3].set_ylim(ax3_ylim)\n",
    "else:\n",
    "    ax[3].set_ylim(lower_ylim, upper_ylim)\n",
    "ax[3].set_ylabel('Mean $r^2$ between\\nelectrodes')\n",
    "ax[3].set_xlabel('Time [h]')\n",
    "\n",
    "for i, a in enumerate(ax):\n",
    "    a.spines['right'].set_visible(False), a.spines['top'].set_visible(False)\n",
    "    if i < 3:\n",
    "        plt.setp(a.get_xticklabels(), visible=False)\n",
    "\n",
    "plt.tight_layout(pad=2)\n",
    "plt.savefig('figures/fig_Ch3_SleepSegment_ID07.png', dpi=300)\n",
    "plt.show()"
   ]
  },
  {
   "cell_type": "code",
   "execution_count": 10,
   "metadata": {},
   "outputs": [
    {
     "data": {
      "text/plain": [
       "[<matplotlib.lines.Line2D at 0x20014ef0a88>]"
      ]
     },
     "execution_count": 10,
     "metadata": {},
     "output_type": "execute_result"
    },
    {
     "data": {
      "image/png": "[encoded data removed]",
      "text/plain": [
       "<Figure size 432x288 with 1 Axes>"
      ]
     },
     "metadata": {},
     "output_type": "display_data"
    }
   ],
   "source": [
    "smooth_rs = swa.copy() #signal.resample(smooth, len(mean_abs))\n",
    "mean_abs_arr = np.asarray(mean_abs)\n",
    "mae_arr = np.asarray(mae)\n",
    "plt.plot(mean_abs_arr)"
   ]
  },
  {
   "cell_type": "code",
   "execution_count": null,
   "metadata": {},
   "outputs": [],
   "source": [
    "# ID07 Artefact removal\n",
    "# Artefact Nr. 1\n",
    "cut_artef_begin = int(mae_arr.shape[0] / 9 * 5.87)\n",
    "cut_artef_end = int(mae_arr.shape[0] / 9 * 6.34)\n",
    "dur = cut_artef_end - cut_artef_begin\n",
    "\n",
    "smooth_rs[cut_artef_begin:cut_artef_end] = np.nan\n",
    "mean_abs_arr[cut_artef_begin:cut_artef_end] = np.nan\n",
    "mae_arr[cut_artef_begin:cut_artef_end] = np.nan\n",
    "\n",
    "# Artefact Nr. 2\n",
    "mae_arr[int(270/9/60 * 96):int(270/9/60 * 99)] = 0.0018\n",
    "\n",
    "# Artefact Nr. 3\n",
    "from_t = int(270/9/60 * 15)\n",
    "smooth_rs = smooth_rs[from_t:]\n",
    "mean_abs_arr = mean_abs_arr[from_t:]\n",
    "mae_arr = mae_arr[from_t:]\n",
    "t_results_cut = t_results[from_t:]"
   ]
  },
  {
   "cell_type": "code",
   "execution_count": 11,
   "metadata": {},
   "outputs": [],
   "source": [
    "# ID07 Artefact removal\n",
    "mean_abs_arr[:5] = np.nan\n",
    "mae_arr[:5] = np.nan\n",
    "smooth_rs[:5] = np.nan\n",
    "corr_arr[:5] = np.nan\n",
    "mean_abs_arr[56:64] = np.nan\n",
    "mae_arr[56:64] = np.nan\n",
    "smooth_rs[56:64] = np.nan\n",
    "corr_arr[56:64] = np.nan"
   ]
  },
  {
   "cell_type": "code",
   "execution_count": 20,
   "metadata": {},
   "outputs": [],
   "source": [
    "# ID08 Artefact removal\n",
    "mean_abs_arr[35:45] = np.nan\n",
    "mae_arr[35:45] = np.nan\n",
    "smooth_rs[35:45] = np.nan\n",
    "corr_arr[35:45] = np.nan"
   ]
  },
  {
   "cell_type": "code",
   "execution_count": 8,
   "metadata": {},
   "outputs": [
    {
     "data": {
      "text/plain": [
       "[<matplotlib.lines.Line2D at 0x241073b6a08>]"
      ]
     },
     "execution_count": 8,
     "metadata": {},
     "output_type": "execute_result"
    },
    {
     "data": {
      "image/png": "[encoded data removed]",
      "text/plain": [
       "<Figure size 432x288 with 1 Axes>"
      ]
     },
     "metadata": {},
     "output_type": "display_data"
    }
   ],
   "source": [
    "# ID11a Artefact removal\n",
    "#mean_abs_arr[:8] = np.nan\n",
    "#mae_arr[:8] = np.nan\n",
    "#smooth_rs[:8] = np.nan\n",
    "corr_arr[:8] = np.nan\n",
    "mean_abs_arr[62:] = np.nan\n",
    "mae_arr[62:] = np.nan\n",
    "smooth_rs[62:] = np.nan\n",
    "corr_arr[62:] = np.nan\n",
    "\n",
    "plt.plot(corr_arr)"
   ]
  },
  {
   "cell_type": "code",
   "execution_count": 12,
   "metadata": {},
   "outputs": [],
   "source": [
    "# ID11b Artefact removal\n",
    "mean_abs_arr[25:250] = np.nan\n",
    "mae_arr[25:250] = np.nan\n",
    "smooth_rs[25:250] = np.nan\n",
    "corr_arr[25:250] = np.nan"
   ]
  },
  {
   "cell_type": "code",
   "execution_count": 12,
   "metadata": {},
   "outputs": [
    {
     "name": "stdout",
     "output_type": "stream",
     "text": [
      "SWA: 0.8788296421334373\n",
      "MAE: -0.7323890630119854\n",
      "CORR: 0.511548802190039\n"
     ]
    },
    {
     "data": {
      "image/png": "[encoded data removed]",
      "text/plain": [
       "<Figure size 144x144 with 1 Axes>"
      ]
     },
     "metadata": {},
     "output_type": "display_data"
    },
    {
     "data": {
      "image/png": "[encoded data removed]",
      "text/plain": [
       "<Figure size 165.6x144 with 1 Axes>"
      ]
     },
     "metadata": {},
     "output_type": "display_data"
    },
    {
     "data": {
      "image/png": "[encoded data removed]",
      "text/plain": [
       "<Figure size 158.4x144 with 1 Axes>"
      ]
     },
     "metadata": {},
     "output_type": "display_data"
    }
   ],
   "source": [
    "print('SWA: ' + str(ma.corrcoef(ma.masked_invalid(mean_abs_arr), ma.masked_invalid(smooth_rs))[0, 1]))\n",
    "print('MAE: ' + str(ma.corrcoef(ma.masked_invalid(mean_abs_arr), ma.masked_invalid(mae_arr))[0, 1]))\n",
    "print('CORR: ' + str(ma.corrcoef(ma.masked_invalid(mean_abs_arr), ma.masked_invalid(corr_arr))[0, 1]))\n",
    "\n",
    "plt.figure(figsize=(2, 2))\n",
    "sns.set_style('white')\n",
    "plt.scatter(mean_abs_arr, smooth_rs, s=3, c='black')\n",
    "plt.xlabel('Mean abs. weights'), plt.ylabel('Smooth SWA')\n",
    "ax = plt.gca()\n",
    "ax.spines['right'].set_visible(False), ax.spines['top'].set_visible(False)\n",
    "plt.tight_layout()\n",
    "plt.savefig('r_w_swa.png')\n",
    "\n",
    "plt.figure(figsize=(2.3, 2))\n",
    "plt.scatter(mean_abs_arr, mae_arr, s=3, c='black')\n",
    "plt.xlabel('Mean abs. weights'), plt.ylabel('MAE loss')\n",
    "ax = plt.gca()\n",
    "ax.spines['right'].set_visible(False), ax.spines['top'].set_visible(False)\n",
    "plt.tight_layout()\n",
    "plt.savefig('r_w_mae.png')\n",
    "\n",
    "plt.figure(figsize=(2.2, 2))\n",
    "plt.scatter(mean_abs_arr, corr_arr, s=3, c='black')\n",
    "plt.xlabel('Mean abs. weights'), plt.ylabel('Mean abs. correlation')\n",
    "ax = plt.gca()\n",
    "ax.spines['right'].set_visible(False), ax.spines['top'].set_visible(False)\n",
    "plt.tight_layout()\n",
    "plt.savefig('r_w_corr.png')\n",
    "\n",
    "\n"
   ]
  },
  {
   "cell_type": "code",
   "execution_count": 32,
   "metadata": {},
   "outputs": [
    {
     "name": "stdout",
     "output_type": "stream",
     "text": [
      "0 hour: 32.0 | min: 7.000000000000028\n",
      "1 hour: 35.0 | min: 15.999999999999943\n",
      "2 hour: 38.0 | min: 22.00000000000003\n"
     ]
    }
   ],
   "source": [
    "t_stamps = [67, 256, 442]\n",
    "for i, val in enumerate(t_stamps):\n",
    "    val_hour = h_offset+(val/60)\n",
    "    val_min = (val_hour - np.floor(val_hour)) * 60\n",
    "    print(str(i) + ' hour: ' + str(np.floor(val_hour)) + ' | min: ' + str(val_min))"
   ]
  },
  {
   "cell_type": "code",
   "execution_count": 14,
   "metadata": {},
   "outputs": [
    {
     "name": "stdout",
     "output_type": "stream",
     "text": [
      "0.070000000002\n",
      "0.15\n",
      "0.22000000000199998\n"
     ]
    }
   ],
   "source": [
    "corrmat = np.load('../data/corrmat_ID' + ID + '_' + h + '_all.npy')"
   ]
  },
  {
   "cell_type": "code",
   "execution_count": 9,
   "metadata": {},
   "outputs": [
    {
     "data": {
      "text/plain": [
       "(70,)"
      ]
     },
     "execution_count": 9,
     "metadata": {},
     "output_type": "execute_result"
    }
   ],
   "source": [
    "np.mean(corrmean, axis=1).shape"
   ]
  },
  {
   "cell_type": "code",
   "execution_count": 63,
   "metadata": {},
   "outputs": [
    {
     "data": {
      "text/plain": [
       "(70,)"
      ]
     },
     "execution_count": 63,
     "metadata": {},
     "output_type": "execute_result"
    }
   ],
   "source": [
    "mae_arr.shape"
   ]
  },
  {
   "cell_type": "code",
   "execution_count": 9,
   "metadata": {},
   "outputs": [
    {
     "data": {
      "text/plain": [
       "'allpos_ID07_31h00m'"
      ]
     },
     "execution_count": 9,
     "metadata": {},
     "output_type": "execute_result"
    }
   ],
   "source": [
    "ids[0]"
   ]
  },
  {
   "cell_type": "code",
   "execution_count": null,
   "metadata": {},
   "outputs": [],
   "source": []
  }
 ],
 "metadata": {
  "kernelspec": {
   "display_name": "Python [conda env:shy]",
   "language": "python",
   "name": "conda-env-shy-py"
  },
  "language_info": {
   "codemirror_mode": {
    "name": "ipython",
    "version": 3
   },
   "file_extension": ".py",
   "mimetype": "text/x-python",
   "name": "python",
   "nbconvert_exporter": "python",
   "pygments_lexer": "ipython3",
   "version": "3.7.7"
  }
 },
 "nbformat": 4,
 "nbformat_minor": 4
}
