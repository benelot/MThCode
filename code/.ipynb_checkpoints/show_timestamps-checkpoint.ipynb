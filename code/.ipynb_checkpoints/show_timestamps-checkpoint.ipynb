{
 "cells": [
  {
   "cell_type": "code",
   "execution_count": 10,
   "metadata": {},
   "outputs": [],
   "source": [
    "from scipy.io import loadmat\n",
    "import numpy as np\n",
    "from scipy import signal\n",
    "import matplotlib.pyplot as plt\n",
    "import seaborn as sns\n",
    "import pandas as pd"
   ]
  },
  {
   "cell_type": "code",
   "execution_count": 12,
   "metadata": {},
   "outputs": [],
   "source": [
    "# Import signal\n",
    "ID = '07'\n",
    "h = '31to39h'\n",
    "data_mat = loadmat('../data/ID' + ID + '_' + h + '.mat')\n",
    "info = loadmat('../data/ID' + ID + '_info.mat')\n",
    "fs = float(info['fs'])\n",
    "data_np = data_mat['EEG']\n",
    "data_list = [data_np[i, :] for i in range(data_np.shape[0])]"
   ]
  },
  {
   "cell_type": "code",
   "execution_count": 13,
   "metadata": {},
   "outputs": [],
   "source": [
    "# Parameters\n",
    "show_corr = True\n",
    "channel_idx = 0\n",
    "sw_band = (0.5, 4)\n",
    "nperseg = int(20*fs)\n",
    "noverlap = int(10*fs)\n",
    "\n",
    "t_stamps = [67, 256, 442]   # minutes\n",
    "h_offset = 31  # hours"
   ]
  },
  {
   "cell_type": "code",
   "execution_count": 14,
   "metadata": {},
   "outputs": [],
   "source": [
    "data = data_list[channel_idx]\n",
    "\n",
    "# Get spectral density\n",
    "f, t, Sxx = signal.spectrogram(data, fs, nperseg=nperseg, noverlap=noverlap, scaling='density')\n",
    "\n",
    "# Extract slow wave band with tukey window\n",
    "Sxx_band = Sxx[int(sw_band[0] * Sxx.shape[0] / f[-1]):int(sw_band[1] * Sxx.shape[0] / f[-1]), :]\n",
    "tukey_window_band = np.tile(signal.tukey(Sxx_band.shape[0]), (Sxx_band.shape[1], 1)).T\n",
    "Sxx_band_tukey = np.multiply(Sxx_band,  tukey_window_band)\n",
    "\n",
    "# Compute average band power\n",
    "swa = np.mean(Sxx_band_tukey, axis=0)"
   ]
  },
  {
   "cell_type": "code",
   "execution_count": 16,
   "metadata": {},
   "outputs": [
    {
     "ename": "IndentationError",
     "evalue": "expected an indented block (<ipython-input-16-87eecd470162>, line 34)",
     "output_type": "error",
     "traceback": [
      "\u001b[1;36m  File \u001b[1;32m\"<ipython-input-16-87eecd470162>\"\u001b[1;36m, line \u001b[1;32m34\u001b[0m\n\u001b[1;33m    plt.savefig('ID08_57h_time_stamps.png')\u001b[0m\n\u001b[1;37m      ^\u001b[0m\n\u001b[1;31mIndentationError\u001b[0m\u001b[1;31m:\u001b[0m expected an indented block\n"
     ]
    }
   ],
   "source": [
    "if show_corr:\n",
    "    corrmean = np.load('../data/corrmean_ID' + ID + '_' + h + '_all.npy')\n",
    "    figsize_1 = 8\n",
    "    n_subplots = 3\n",
    "else:\n",
    "    figsize_1 = 5\n",
    "    n_subplots = 2\n",
    "    \n",
    "fig = plt.figure(figsize=(10, figsize_1))\n",
    "sns.set_style('whitegrid')\n",
    "t_hours = t/60/60 + h_offset\n",
    "\n",
    "ax0 = fig.add_subplot(n_subplots, 1, 1)\n",
    "plt.pcolormesh(t_hours, f, Sxx, vmax=35, cmap='viridis')\n",
    "ax0.set_ylim(0, 30)\n",
    "ax0.set_xlim(t_hours[0], t_hours[-1])\n",
    "ax0.set_title('Power spectral density (single channel)')\n",
    "ax0.set_ylabel('Frequency [Hz]')\n",
    "ax0.set_xlabel('Time [h]')\n",
    "\n",
    "ax1 = fig.add_subplot(n_subplots, 1, 2)\n",
    "plt.plot(t_hours, swa, lw=1)\n",
    "upper_ylim = 150#np.max(swa)+np.max(swa)/10\n",
    "for _, t_stamp in enumerate(t_stamps):\n",
    "    plt.plot([t_stamp/60 + h_offset, t_stamp/60 + h_offset], [0, upper_ylim], c='tab:red', lw=3)\n",
    "smooth = signal.savgol_filter(swa, window_length=101, polyorder=3)\n",
    "plt.plot(t_hours, smooth, c='black', ls='--')\n",
    "ax1.set_xlim(t_hours[0], t_hours[-1])\n",
    "ax1.set_ylim(0, upper_ylim)\n",
    "ax1.set_title('Mean SWA (single channel)')\n",
    "ax1.set_ylabel('Band power density [uV**2/Hz]')\n",
    "ax1.set_xlabel('Time [h]')\n",
    "\n",
    "if show_corr:\n",
    "    ax2 = fig.add_subplot(n_subplots, 1, 3)\n",
    "    t_corr = np.linspace(t_hours[0], t_hours[-1], len(corrmean))\n",
    "    upper_ylim = np.max(corrmean)+np.max(corrmean)/10\n",
    "    lower_ylim = np.min(corrmean)-np.min(corrmean)/10\n",
    "    plt.plot(t_corr, corrmean)\n",
    "    for _, t_stamp in enumerate(t_stamps):\n",
    "        plt.plot([t_stamp/60 + h_offset, t_stamp/60 + h_offset], [lower_ylim, upper_ylim], c='tab:red', lw=3)\n",
    "    ax2.set_xlim(t_hours[0], t_hours[-1])\n",
    "    ax2.set_ylim(lower_ylim, upper_ylim)\n",
    "    ax2.set_title('Mean abs. correlation between channels')\n",
    "    ax2.set_ylabel('Correlation coefficient')\n",
    "    ax2.set_xlabel('Time [h]')\n",
    "\n",
    "plt.tight_layout()\n",
    "plt.savefig('timestamps_' + ID + '_' + h + '.png')\n",
    "plt.show()\n"
   ]
  },
  {
   "cell_type": "code",
   "execution_count": 32,
   "metadata": {},
   "outputs": [
    {
     "name": "stdout",
     "output_type": "stream",
     "text": [
      "0 hour: 32.0 | min: 7.000000000000028\n",
      "1 hour: 35.0 | min: 15.999999999999943\n",
      "2 hour: 38.0 | min: 22.00000000000003\n"
     ]
    }
   ],
   "source": [
    "t_stamps = [67, 256, 442]\n",
    "for i, val in enumerate(t_stamps):\n",
    "    val_hour = h_offset+(val/60)\n",
    "    val_min = (val_hour - np.floor(val_hour)) * 60\n",
    "    print(str(i) + ' hour: ' + str(np.floor(val_hour)) + ' | min: ' + str(val_min))"
   ]
  },
  {
   "cell_type": "code",
   "execution_count": 14,
   "metadata": {},
   "outputs": [
    {
     "name": "stdout",
     "output_type": "stream",
     "text": [
      "0.070000000002\n",
      "0.15\n",
      "0.22000000000199998\n"
     ]
    }
   ],
   "source": [
    "print(0.11666666667*0.6)\n",
    "print(0.25*0.6)\n",
    "print(.36666666667*0.6)"
   ]
  },
  {
   "cell_type": "code",
   "execution_count": 26,
   "metadata": {},
   "outputs": [
    {
     "data": {
      "text/plain": [
       "0.0010000000000000002"
      ]
     },
     "execution_count": 26,
     "metadata": {},
     "output_type": "execute_result"
    }
   ],
   "source": [
    "0.1 * (0.1 ** (4 // 2))"
   ]
  },
  {
   "cell_type": "code",
   "execution_count": 18,
   "metadata": {},
   "outputs": [
    {
     "data": {
      "text/plain": [
       "0.16666666666666666"
      ]
     },
     "execution_count": 18,
     "metadata": {},
     "output_type": "execute_result"
    }
   ],
   "source": [
    "1/6"
   ]
  },
  {
   "cell_type": "code",
   "execution_count": null,
   "metadata": {},
   "outputs": [],
   "source": []
  }
 ],
 "metadata": {
  "kernelspec": {
   "display_name": "Python 3",
   "language": "python",
   "name": "python3"
  },
  "language_info": {
   "codemirror_mode": {
    "name": "ipython",
    "version": 3
   },
   "file_extension": ".py",
   "mimetype": "text/x-python",
   "name": "python",
   "nbconvert_exporter": "python",
   "pygments_lexer": "ipython3",
   "version": "3.7.1"
  }
 },
 "nbformat": 4,
 "nbformat_minor": 2
}
